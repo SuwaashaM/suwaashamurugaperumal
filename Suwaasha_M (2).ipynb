{
  "nbformat": 4,
  "nbformat_minor": 0,
  "metadata": {
    "colab": {
      "name": "Suwaasha.M.ipynb",
      "private_outputs": true,
      "provenance": [],
      "collapsed_sections": [],
      "toc_visible": true
    },
    "kernelspec": {
      "name": "python3",
      "display_name": "Python 3"
    },
    "language_info": {
      "name": "python"
    }
  },
  "cells": [
    {
      "cell_type": "code",
      "metadata": {
        "id": "Hm8PWOo1Zpxb"
      },
      "source": [
        "import requests\n",
        "from datetime import datetime\n",
        "api_key ='afafb9a82102811b5bd1796927767f8c'\n",
        "location = input(\"Enter the city name:\")\n",
        "Complete_api_link =\"https://api.openweathermap.org/data/2.5/weather?q=\"+location+\"&appid=\"+api_key\n",
        "api_link = requests.get(Complete_api_link)\n",
        "api_data  = api_link.json()\n",
        "temp_city=((api_data['main']['temp'])-273.15)\n",
        "weather_desc = api_data['weather'][0]['description']\n",
        "hmdt = api_data['main']['humidity']\n",
        "wind_spd = api_data['wind']['speed']\n",
        "date_time = datetime.now().strftime(\"%d %b %Y|%I:%M:%S %P\")\n",
        "print(\"-----------------------------------------\")\n",
        "print(\"weather stats for - {} || {}\".format(location.upper(), date_time))\n",
        "print(\"--------------------------------------------\")\n",
        "print (\"Current temperature is: {:.2f}deg C\".format(temp_city))\n",
        "print (\"Current weather desc :\",weather_desc)\n",
        "print (\"Current Humidity :\", hmdt, '%')\n",
        "print (\"Current wind speed:\", wind_spd, 'kmph')"
      ],
      "execution_count": null,
      "outputs": []
    }
  ]
}